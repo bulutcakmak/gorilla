{
  "nbformat": 4,
  "nbformat_minor": 0,
  "metadata": {
    "colab": {
      "name": "gorilla.ipynb",
      "provenance": [],
      "authorship_tag": "ABX9TyNmk+zkKDZgcAFqAnLXX7tU",
      "include_colab_link": true
    },
    "kernelspec": {
      "name": "python3",
      "display_name": "Python 3"
    },
    "language_info": {
      "name": "python"
    }
  },
  "cells": [
    {
      "cell_type": "markdown",
      "metadata": {
        "id": "view-in-github",
        "colab_type": "text"
      },
      "source": [
        "<a href=\"https://colab.research.google.com/github/bulutcakmak/gorilla/blob/main/gorilla.ipynb\" target=\"_parent\"><img src=\"https://colab.research.google.com/assets/colab-badge.svg\" alt=\"Open In Colab\"/></a>"
      ]
    },
    {
      "cell_type": "markdown",
      "source": [
        "First, let's load all the libraries we absolutely need."
      ],
      "metadata": {
        "id": "lRyXZiYa6heW"
      }
    },
    {
      "cell_type": "code",
      "execution_count": null,
      "metadata": {
        "id": "hFBFdYnR3ehf"
      },
      "outputs": [],
      "source": [
        "import pandas as pd"
      ]
    },
    {
      "cell_type": "markdown",
      "source": [
        "Then, let's make sure we are able to read the Excel file. I have placed the Excel file to a public repository on GitHub, so we will load the file from that URL. This way, we will ensure the script can be run from any location, terminal, driver, etc."
      ],
      "metadata": {
        "id": "3uHv3C0hAcwq"
      }
    },
    {
      "cell_type": "code",
      "source": [
        "url = 'https://github.com/bulutcakmak/gorilla/blob/main/gorilla_test_data.xlsx?raw=true'\n",
        "xls = pd.ExcelFile(url)"
      ],
      "metadata": {
        "id": "qDnY9YRdRsaV"
      },
      "execution_count": null,
      "outputs": []
    },
    {
      "cell_type": "markdown",
      "source": [
        "Once the file is ready, we can read it into pandas"
      ],
      "metadata": {
        "id": "F5GOwUmF6dh2"
      }
    },
    {
      "cell_type": "code",
      "source": [
        "# instead of hardcoding sheetnames, we will allow some flexibility by using\n",
        "# sheet numbers however we will assume the sheet order is always meter list,\n",
        "# forecast table, and then rate table\n",
        "\n",
        "meterList = xls.parse(0)\n",
        "forecastTable = xls.parse(1)\n",
        "rateTable = xls.parse(2)"
      ],
      "metadata": {
        "id": "84gI2Vy96dHf"
      },
      "execution_count": null,
      "outputs": []
    },
    {
      "cell_type": "markdown",
      "source": [
        "To make our analyses easier, we will merge the corresponding meter and rate information to every forecast record. At first, we will explode in size since Rate won't match Forecast 1:1 and then we will quickly filter to keep only the relevant rate information in the table."
      ],
      "metadata": {
        "id": "s4VO-oJN-Xbj"
      }
    },
    {
      "cell_type": "code",
      "source": [
        "masterData = pd.merge(forecastTable, meterList, on = 'meter_id')\n",
        "\n",
        "# Need to use a left join when dealing with rate because initially there will\n",
        "# be multiple rates applicable to 1 forecast record\n",
        "\n",
        "masterData = pd.merge(masterData, rateTable, on = 'exit_zone', how = 'left', suffixes = ('_forecast', '_rate'))"
      ],
      "metadata": {
        "id": "qIQvaNvqkBws"
      },
      "execution_count": null,
      "outputs": []
    },
    {
      "cell_type": "markdown",
      "source": [
        "We did a left join, so we need to clean the dataset now (we need to choose the correct rate whose 1) date applies to the forecast date, and 2) AQ range includes AQ coming from the meter information)"
      ],
      "metadata": {
        "id": "ziYg8MtM-Fhh"
      }
    },
    {
      "cell_type": "code",
      "source": [
        "# Keep only the rates which apply to the forecast based on AQ of the meter\n",
        "\n",
        "masterData = masterData[masterData['aq_min_kwh'] <= masterData['aq_kwh']]\n",
        "masterData = masterData[masterData['aq_kwh'] < masterData['aq_max_kwh'].fillna(masterData['aq_kwh'].max()+1)]\n",
        "\n",
        "# Any rate that is determined later than the forecast can already be discarded\n",
        "\n",
        "masterData = masterData[masterData['date_forecast'] >= masterData['date_rate']]\n",
        "\n",
        "# Reset indices before moving on\n",
        "\n",
        "# masterData = masterData.reset_index(drop = True)\n",
        "\n",
        "# Keep only the most recent rate that was determined before the forecast date\n",
        "\n",
        "idx = masterData.groupby(['meter_id', 'date_forecast'])['date_rate'].transform(max) == masterData['date_rate']\n",
        "masterData = masterData[idx]"
      ],
      "metadata": {
        "id": "JNqUcmih-EKA"
      },
      "execution_count": null,
      "outputs": []
    },
    {
      "cell_type": "markdown",
      "source": [
        "Now that we have picked the appropriate rates for each forecast, we can easily compute the total estimated consumption and total cost"
      ],
      "metadata": {
        "id": "T4UD5O7_mJKw"
      }
    },
    {
      "cell_type": "code",
      "source": [
        "# It's easy to compute the cost in-memory, so create a new field and add the\n",
        "# total cost for the forecasted consumption in this new field\n",
        "\n",
        "masterData['cost'] = masterData['kwh'] * masterData['rate_p_per_kwh']\n",
        "\n",
        "print(masterData.groupby('meter_id')['kwh'].sum())\n",
        "print(masterData.groupby('meter_id')['cost'].sum()/100)"
      ],
      "metadata": {
        "id": "imzl-whDmVgv"
      },
      "execution_count": null,
      "outputs": []
    },
    {
      "cell_type": "markdown",
      "source": [
        "The results of running the script above can be summarized below:\n",
        "\n",
        "<center>\n",
        "\n",
        "Meter ID | Total Estimated Consumption (kWh) | Total Cost (£) \n",
        "---------|-----------------------------------|----------------\n",
        "14676236 | 28978 | 100.152\n",
        "34509937 | 78324 | 275.489\n",
        "50264822 | 265667 | 731.244\n",
        "88357331 | 484399 | 1433.160\n",
        "\n",
        "</center>"
      ],
      "metadata": {
        "id": "fMUwFmM_lWAi"
      }
    },
    {
      "cell_type": "markdown",
      "source": [
        "Now let's write the function to generate random meters. Looking at the Meters from the Excel file, the meter ID will be a random 8-digit number. Exit zone will be chosen randomly from what's available in the Rate information. AQ will be randomly generated between 0 and 732000+73200 to make sure normal distribution in the three different AQ intervals."
      ],
      "metadata": {
        "id": "a7n7ym4EsTwh"
      }
    },
    {
      "cell_type": "code",
      "source": [
        "import numpy as np\n",
        "import pandas as pd\n",
        "\n",
        "def generate_meters(number_of_meters):\n",
        "\n",
        "  # Let's first define all possible exit zones\n",
        "  # we can use some global variables, or load the rate table, but to ensure we don't\n",
        "  # rely on any external information, for now we will hardcode the possibilities\n",
        "  \n",
        "  zones = ['EA1','EA2','EA3','EA4','EM1','EM2','EM3','EM4',\n",
        "           'LC','LO','LS','LT','LW',\n",
        "           'NE1','NE2','NE3','NO1','NO2','NT1','NT2','NT3','NW1','NW2',\n",
        "           'SC1','SC2','SC4','SE1','SE2','SO1','SO2','SW1','SW2','SW3',\n",
        "           'WA1','WA2','WM1','WM2','WM3']\n",
        "\n",
        "  # If we want to avoid hardcoding, we could use the snippet below:\n",
        "  # url = 'https://github.com/bulutcakmak/gorilla/blob/main/gorilla_test_data.xlsx?raw=true'\n",
        "  # pd.unique(pd.ExcelFile(url, sheet_name = 2)['exit_zone'])\n",
        "\n",
        "  # first generate meter_id as random 8-digit number\n",
        "  # for randomness, we will now need to use numpy as well because pandas relies\n",
        "  # on this library's random functions\n",
        "\n",
        "  meter_id = np.random.randint(low = 10**7, high = 10**8, size = number_of_meters)\n",
        "\n",
        "  # then generate AQ values between 0 and 732000+73200\n",
        "\n",
        "  aq_kwh = np.random.rand(number_of_meters) * (732000 + 73200)\n",
        "\n",
        "  # then generate random Exit Zones for each meter\n",
        "\n",
        "  exit_zone = np.random.choice(zones, size = number_of_meters)\n",
        "\n",
        "  return pd.DataFrame(data={'meter_id': meter_id,\n",
        "                            'aq_kwh': aq_kwh,\n",
        "                            'exit_zone': exit_zone})\n"
      ],
      "metadata": {
        "id": "sm7S60ujsw7F"
      },
      "execution_count": 2,
      "outputs": []
    },
    {
      "cell_type": "markdown",
      "source": [
        "Now let's write the function to generate forecast data"
      ],
      "metadata": {
        "id": "NeOoo5vN3S-z"
      }
    },
    {
      "cell_type": "code",
      "source": [
        "import numpy as np\n",
        "import pandas as pd\n",
        "\n",
        "def generate_consumption(meter_list, start_date, number_of_forecast):\n",
        "  # the expected date input is DD-MM-YYYY\n",
        "  if not (start_date.isdigit() and len(start_date) == 8):\n",
        "    print('The function expects a start date in the YYYYMMDD string format')\n",
        "    return -1\n",
        "\n",
        "  # replicate date and meter lists to prepare for forecast data\n",
        "\n",
        "  forecast = pd.concat([\n",
        "                       pd.DataFrame(\n",
        "                           {'meter_id': row['meter_id'],\n",
        "                            'date': pd.date_range(start = start_date, periods = number_of_forecast)\n",
        "                            }\n",
        "                          ) for i, row in meter_list.iterrows()\n",
        "                        ], ignore_index=True)\n",
        "\n",
        "  # The forecast table has the following for kwh field\n",
        "  # Max: 1169.40\n",
        "  # Min: 2.92\n",
        "  # Mean: 251.28\n",
        "  # Median: 137.60\n",
        "  # So I will generate random consumption data uniformly over 0 to 600\n",
        "  # This doesn't reflect the median and excludes the maximum, but it will be close\n",
        "  # to the mean value\n",
        "\n",
        "  forecast['kwh'] = np.random.rand(len(forecast)) * 600\n",
        "\n",
        "  return forecast"
      ],
      "metadata": {
        "id": "faRo3sq93R5m"
      },
      "execution_count": 1,
      "outputs": []
    },
    {
      "cell_type": "markdown",
      "source": [
        "Now let's write a function that will take a meter list and consumption forecast table and will calculate transportation cost table"
      ],
      "metadata": {
        "id": "XNiRNqE5IQyc"
      }
    },
    {
      "cell_type": "code",
      "source": [
        "import pandas as pd\n",
        "\n",
        "def calculate_transportcost(meterList, forecastTable):\n",
        "\n",
        "  url = 'https://github.com/bulutcakmak/gorilla/blob/main/gorilla_test_data.xlsx?raw=true'\n",
        "  xls = pd.ExcelFile(url)\n",
        "  rateTable = xls.parse(2)\n",
        "\n",
        "  masterData = pd.merge(forecastTable, meterList, on = 'meter_id')\n",
        "  masterData = pd.merge(masterData, rateTable, on = 'exit_zone', how = 'left', suffixes = ('_forecast', '_rate'))\n",
        "\n",
        "  masterData = masterData[masterData['date_forecast'] >= masterData['date_rate']]\n",
        "  masterData = masterData[masterData['aq_min_kwh'] <= masterData['aq_kwh']]\n",
        "  masterData = masterData[masterData['aq_kwh'] < masterData['aq_max_kwh'].fillna(masterData['aq_kwh'].max()+1)]\n",
        "  masterData = masterData.reset_index(drop = True)\n",
        "\n",
        "  idx = masterData.groupby(['meter_id', 'date_forecast'])['date_rate'].transform(max) == masterData['date_rate']\n",
        "  masterData = masterData[idx]\n",
        "\n",
        "  masterData['cost'] = masterData['kwh'] * masterData['rate_p_per_kwh']\n",
        "\n",
        "  return pd.DataFrame({'Total_est_consumption': masterData.groupby('meter_id')['kwh'].sum(),\n",
        "                       'Total_cost': masterData.groupby('meter_id')['cost'].sum()/100})\n"
      ],
      "metadata": {
        "id": "YvKVL2KoJkK7"
      },
      "execution_count": 5,
      "outputs": []
    },
    {
      "cell_type": "markdown",
      "source": [
        "We can include the script for benchmark testing here as well"
      ],
      "metadata": {
        "id": "lpttj7aTowKB"
      }
    },
    {
      "cell_type": "code",
      "source": [
        "#myMeters = generate_meters(5)\n",
        "#print(myMeters)\n",
        "#myForecast = generate_consumption(myMeters, '20200401', 10)\n",
        "#myCost = calculate_transportcost(myMeters, myForecast)\n",
        "#print(myCost)\n",
        "\n",
        "import time\n",
        "\n",
        "meter_size = 10\n",
        "date_size = 10\n",
        "myDate = '20200401'\n",
        "myFactorOfTesting = 100\n",
        "\n",
        "# Create a matrix of zeroes\n",
        "# The rows will represent the runtime w.r.t. number of meters\n",
        "# The columns will represent the runtime w.r.t. number of forecast days\n",
        "\n",
        "time_data = np.zeros((meter_size, date_size))\n",
        "\n",
        "for num_meters in np.arange(meter_size):\n",
        "  for num_days in np.arange(date_size):\n",
        "    myMeters = generate_meters(myFactorOfTesting * (num_meters + 1))\n",
        "    myForecast = generate_consumption(myMeters, myDate, myFactorOfTesting * (num_days + 1))\n",
        "    start = time.time()\n",
        "    myCost = calculate_transportcost(myMeters, myForecast)\n",
        "    end = time.time()\n",
        "    time_data[num_meters, num_days] = end - start\n",
        "\n",
        "print(time_data)"
      ],
      "metadata": {
        "id": "aHszJgpeqQDU",
        "colab": {
          "base_uri": "https://localhost:8080/"
        },
        "outputId": "9e0dcf33-0bc1-4ae6-c0ab-b5628f878422"
      },
      "execution_count": 6,
      "outputs": [
        {
          "output_type": "stream",
          "name": "stdout",
          "text": [
            "[[0.59596395 0.59631014 0.65174961 0.71879435 0.79435015 0.84070921\n",
            "  0.91539121 1.08901262 1.06490564 1.15191483]\n",
            " [0.59782147 0.70206261 0.8248868  0.9494791  1.09390569 1.22909617\n",
            "  1.33497882 1.48677063 1.62023973 1.74147487]\n",
            " [0.63890147 0.89842415 1.04814768 1.20009899 1.35628915 1.52551556\n",
            "  1.69939899 1.91143656 2.77823162 2.37577605]\n",
            " [0.69177508 0.95658875 1.15000272 1.3795743  1.61753488 1.84194446\n",
            "  2.13940024 2.35948586 2.75161242 3.15899682]\n",
            " [0.76924229 1.08683491 1.39722633 1.61931133 1.95037293 2.22859645\n",
            "  2.5715251  2.92439246 3.17735553 3.63098311]\n",
            " [0.8600049  1.1702981  1.48872447 1.83426046 2.17515969 2.55643344\n",
            "  2.93993878 3.26307535 3.69937038 4.30548906]\n",
            " [1.05325294 1.31611967 1.71979904 2.09067225 2.57886195 2.86918449\n",
            "  3.4012177  3.82565427 4.19577885 4.8689537 ]\n",
            " [1.21188402 1.39476991 1.85262418 2.34930134 2.73641205 3.22245955\n",
            "  3.76958179 4.23481655 4.6781311  5.56383967]\n",
            " [1.0979929  1.50825787 2.04069591 2.52720928 3.00106072 3.59504056\n",
            "  4.14525461 4.67854071 5.36094117 6.1320591 ]\n",
            " [1.07020593 1.67674255 2.17802405 2.70821667 3.39020872 3.89539528\n",
            "  4.56565523 5.19666362 5.76374936 6.28406501]]\n"
          ]
        }
      ]
    },
    {
      "cell_type": "code",
      "source": [
        "myNumOfMeters = 10\n",
        "myNumOfDays = 10\n",
        "myStartDate = '02-04-2020'\n",
        "\n",
        "myMeters = generate_meters(myNumOfMeters)\n",
        "myForecast = generate_consumption(myMeters, myStartDate, myNumOfDays)"
      ],
      "metadata": {
        "id": "HndFVh4eov9E"
      },
      "execution_count": null,
      "outputs": []
    }
  ]
}
